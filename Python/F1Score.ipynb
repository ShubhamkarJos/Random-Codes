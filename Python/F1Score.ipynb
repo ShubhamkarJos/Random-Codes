{
  "nbformat": 4,
  "nbformat_minor": 0,
  "metadata": {
    "colab": {
      "name": "F1Score.ipynb",
      "provenance": [],
      "collapsed_sections": []
    },
    "kernelspec": {
      "name": "python3",
      "display_name": "Python 3"
    }
  },
  "cells": [
    {
      "cell_type": "code",
      "metadata": {
        "colab": {
          "base_uri": "https://localhost:8080/"
        },
        "id": "mqhcFL_nZINI",
        "outputId": "b0684654-0e71-4a21-c4ab-915092a8cb66"
      },
      "source": [
        "!pip install laserembeddings\r\n",
        "!pip install laserembeddings[hi]\r\n",
        "!python -m laserembeddings download-models\r\n",
        "from laserembeddings import Laser\r\n",
        "laser = Laser()"
      ],
      "execution_count": 1,
      "outputs": [
        {
          "output_type": "stream",
          "text": [
            "Collecting laserembeddings\n",
            "  Downloading https://files.pythonhosted.org/packages/a2/4b/a9e3ee9f4825bd2bb6b48f26370e2c341860ec0cb2a9a27deea9be6c2299/laserembeddings-1.1.0-py3-none-any.whl\n",
            "Collecting sacremoses==0.0.35\n",
            "\u001b[?25l  Downloading https://files.pythonhosted.org/packages/1f/8e/ed5364a06a9ba720fddd9820155cc57300d28f5f43a6fd7b7e817177e642/sacremoses-0.0.35.tar.gz (859kB)\n",
            "\u001b[K     |████████████████████████████████| 860kB 5.2MB/s \n",
            "\u001b[?25hRequirement already satisfied: numpy<2.0.0,>=1.15.4 in /usr/local/lib/python3.6/dist-packages (from laserembeddings) (1.19.5)\n",
            "Collecting transliterate==1.10.2\n",
            "\u001b[?25l  Downloading https://files.pythonhosted.org/packages/a1/6e/9a9d597dbdd6d0172427c8cc07c35736471e631060df9e59eeb87687f817/transliterate-1.10.2-py2.py3-none-any.whl (45kB)\n",
            "\u001b[K     |████████████████████████████████| 51kB 4.9MB/s \n",
            "\u001b[?25hRequirement already satisfied: torch<2.0.0,>=1.0.1.post2 in /usr/local/lib/python3.6/dist-packages (from laserembeddings) (1.7.0+cu101)\n",
            "Collecting subword-nmt<0.4.0,>=0.3.6\n",
            "  Downloading https://files.pythonhosted.org/packages/74/60/6600a7bc09e7ab38bc53a48a20d8cae49b837f93f5842a41fe513a694912/subword_nmt-0.3.7-py2.py3-none-any.whl\n",
            "Requirement already satisfied: six in /usr/local/lib/python3.6/dist-packages (from sacremoses==0.0.35->laserembeddings) (1.15.0)\n",
            "Requirement already satisfied: click in /usr/local/lib/python3.6/dist-packages (from sacremoses==0.0.35->laserembeddings) (7.1.2)\n",
            "Requirement already satisfied: joblib in /usr/local/lib/python3.6/dist-packages (from sacremoses==0.0.35->laserembeddings) (1.0.0)\n",
            "Requirement already satisfied: tqdm in /usr/local/lib/python3.6/dist-packages (from sacremoses==0.0.35->laserembeddings) (4.41.1)\n",
            "Requirement already satisfied: typing-extensions in /usr/local/lib/python3.6/dist-packages (from torch<2.0.0,>=1.0.1.post2->laserembeddings) (3.7.4.3)\n",
            "Requirement already satisfied: future in /usr/local/lib/python3.6/dist-packages (from torch<2.0.0,>=1.0.1.post2->laserembeddings) (0.16.0)\n",
            "Requirement already satisfied: dataclasses in /usr/local/lib/python3.6/dist-packages (from torch<2.0.0,>=1.0.1.post2->laserembeddings) (0.8)\n",
            "Building wheels for collected packages: sacremoses\n",
            "  Building wheel for sacremoses (setup.py) ... \u001b[?25l\u001b[?25hdone\n",
            "  Created wheel for sacremoses: filename=sacremoses-0.0.35-cp36-none-any.whl size=884000 sha256=ee7fd96641fa31de024ba81bd96d294760587bb56f5d545fe3d526f481ac7823\n",
            "  Stored in directory: /root/.cache/pip/wheels/63/2a/db/63e2909042c634ef551d0d9ac825b2b0b32dede4a6d87ddc94\n",
            "Successfully built sacremoses\n",
            "Installing collected packages: sacremoses, transliterate, subword-nmt, laserembeddings\n",
            "Successfully installed laserembeddings-1.1.0 sacremoses-0.0.35 subword-nmt-0.3.7 transliterate-1.10.2\n",
            "Requirement already satisfied: laserembeddings[hi] in /usr/local/lib/python3.6/dist-packages (1.1.0)\n",
            "\u001b[33m  WARNING: laserembeddings 1.1.0 does not provide the extra 'hi'\u001b[0m\n",
            "Requirement already satisfied: torch<2.0.0,>=1.0.1.post2 in /usr/local/lib/python3.6/dist-packages (from laserembeddings[hi]) (1.7.0+cu101)\n",
            "Requirement already satisfied: transliterate==1.10.2 in /usr/local/lib/python3.6/dist-packages (from laserembeddings[hi]) (1.10.2)\n",
            "Requirement already satisfied: sacremoses==0.0.35 in /usr/local/lib/python3.6/dist-packages (from laserembeddings[hi]) (0.0.35)\n",
            "Requirement already satisfied: numpy<2.0.0,>=1.15.4 in /usr/local/lib/python3.6/dist-packages (from laserembeddings[hi]) (1.19.5)\n",
            "Requirement already satisfied: subword-nmt<0.4.0,>=0.3.6 in /usr/local/lib/python3.6/dist-packages (from laserembeddings[hi]) (0.3.7)\n",
            "Requirement already satisfied: dataclasses in /usr/local/lib/python3.6/dist-packages (from torch<2.0.0,>=1.0.1.post2->laserembeddings[hi]) (0.8)\n",
            "Requirement already satisfied: future in /usr/local/lib/python3.6/dist-packages (from torch<2.0.0,>=1.0.1.post2->laserembeddings[hi]) (0.16.0)\n",
            "Requirement already satisfied: typing-extensions in /usr/local/lib/python3.6/dist-packages (from torch<2.0.0,>=1.0.1.post2->laserembeddings[hi]) (3.7.4.3)\n",
            "Requirement already satisfied: six>=1.1.0 in /usr/local/lib/python3.6/dist-packages (from transliterate==1.10.2->laserembeddings[hi]) (1.15.0)\n",
            "Requirement already satisfied: joblib in /usr/local/lib/python3.6/dist-packages (from sacremoses==0.0.35->laserembeddings[hi]) (1.0.0)\n",
            "Requirement already satisfied: click in /usr/local/lib/python3.6/dist-packages (from sacremoses==0.0.35->laserembeddings[hi]) (7.1.2)\n",
            "Requirement already satisfied: tqdm in /usr/local/lib/python3.6/dist-packages (from sacremoses==0.0.35->laserembeddings[hi]) (4.41.1)\n",
            "Downloading models into /usr/local/lib/python3.6/dist-packages/laserembeddings/data\n",
            "\n",
            "✅   Downloaded https://dl.fbaipublicfiles.com/laser/models/93langs.fcodes    \n",
            "✅   Downloaded https://dl.fbaipublicfiles.com/laser/models/93langs.fvocab    \n",
            "✅   Downloaded https://dl.fbaipublicfiles.com/laser/models/bilstm.93langs.2018-12-26.pt    \n",
            "\n",
            "✨ You're all set!\n"
          ],
          "name": "stdout"
        }
      ]
    },
    {
      "cell_type": "code",
      "metadata": {
        "id": "pBtS_ZiKbSDe"
      },
      "source": [
        "embeddings = laser.embed_sentences(\r\n",
        "    ['अजमेर से पुष्कर कितनी दूर है'],\r\n",
        "    lang='hi')\r\n",
        "embeddings2 = laser.embed_sentences(\r\n",
        "    ['पुष्‍कर भारत के सबसे पवित्र शहरों में से मान्‍यता प्राप्‍त शहर है'],\r\n",
        "    lang='hi')"
      ],
      "execution_count": 2,
      "outputs": []
    },
    {
      "cell_type": "code",
      "metadata": {
        "colab": {
          "base_uri": "https://localhost:8080/"
        },
        "id": "raTU1ltqcV3E",
        "outputId": "290d0403-a3b8-40f3-f4aa-e32b7814328f"
      },
      "source": [
        "print(embeddings)"
      ],
      "execution_count": 3,
      "outputs": [
        {
          "output_type": "stream",
          "text": [
            "[[ 0.01730858  0.00337159 -0.00089818 ...  0.0205764   0.00352468\n",
            "   0.01926048]]\n"
          ],
          "name": "stdout"
        }
      ]
    },
    {
      "cell_type": "code",
      "metadata": {
        "colab": {
          "base_uri": "https://localhost:8080/"
        },
        "id": "wsURX65icX2E",
        "outputId": "5c448b26-ef27-47f2-cb1c-946b8c0db2ff"
      },
      "source": [
        "print(embeddings2)"
      ],
      "execution_count": 4,
      "outputs": [
        {
          "output_type": "stream",
          "text": [
            "[[ 0.00323288  0.00266066 -0.00167642 ...  0.0099649  -0.00209481\n",
            "   0.00934149]]\n"
          ],
          "name": "stdout"
        }
      ]
    },
    {
      "cell_type": "code",
      "metadata": {
        "id": "qCYyk1afe4I7"
      },
      "source": [
        "s1 = 'नैनीताल कहाँ स्थित है?'\r\n",
        "s2 = 'यह हिमालयन बेल्ट में स्थित है'"
      ],
      "execution_count": 31,
      "outputs": []
    },
    {
      "cell_type": "code",
      "metadata": {
        "id": "Nn2ImdjgB-Iq"
      },
      "source": [
        "sub_s1 = s1.split()\r\n",
        "sub_s2 = s2.split()"
      ],
      "execution_count": 32,
      "outputs": []
    },
    {
      "cell_type": "code",
      "metadata": {
        "id": "omKqxc-77maw"
      },
      "source": [
        "l1 = len(sub_s1)\r\n",
        "l2 = len(sub_s2)\r\n",
        "common = len(set(sub_s1) & set(sub_s2))"
      ],
      "execution_count": 33,
      "outputs": []
    },
    {
      "cell_type": "code",
      "metadata": {
        "id": "YZ7lOuXTDW1N"
      },
      "source": [
        "pre = float(common/l1)\r\n",
        "rec = float(common/l2)"
      ],
      "execution_count": 34,
      "outputs": []
    },
    {
      "cell_type": "code",
      "metadata": {
        "colab": {
          "base_uri": "https://localhost:8080/"
        },
        "id": "HYOeKpAnD3TG",
        "outputId": "8855e116-0a91-4cb5-f2eb-969a8dd3b102"
      },
      "source": [
        "f1  = 2*pre*rec/(pre+rec)\r\n",
        "print(f1)"
      ],
      "execution_count": 37,
      "outputs": [
        {
          "output_type": "stream",
          "text": [
            "0.2\n"
          ],
          "name": "stdout"
        }
      ]
    },
    {
      "cell_type": "code",
      "metadata": {
        "id": "Kv6jHbjkGB6R"
      },
      "source": [
        "import pandas as pd\r\n",
        "df = pd.read_json(\"MMQA_BERT.json\")"
      ],
      "execution_count": 38,
      "outputs": []
    },
    {
      "cell_type": "code",
      "metadata": {
        "colab": {
          "base_uri": "https://localhost:8080/",
          "height": 391
        },
        "id": "cp9SuwLNH-DJ",
        "outputId": "594d8728-aecb-4084-8fa3-771caa1fa0a7"
      },
      "source": [
        "df"
      ],
      "execution_count": 39,
      "outputs": [
        {
          "output_type": "execute_result",
          "data": {
            "text/html": [
              "<div>\n",
              "<style scoped>\n",
              "    .dataframe tbody tr th:only-of-type {\n",
              "        vertical-align: middle;\n",
              "    }\n",
              "\n",
              "    .dataframe tbody tr th {\n",
              "        vertical-align: top;\n",
              "    }\n",
              "\n",
              "    .dataframe thead th {\n",
              "        text-align: right;\n",
              "    }\n",
              "</style>\n",
              "<table border=\"1\" class=\"dataframe\">\n",
              "  <thead>\n",
              "    <tr style=\"text-align: right;\">\n",
              "      <th></th>\n",
              "      <th>question</th>\n",
              "      <th>answer1</th>\n",
              "      <th>answer2</th>\n",
              "      <th>answer3</th>\n",
              "    </tr>\n",
              "  </thead>\n",
              "  <tbody>\n",
              "    <tr>\n",
              "      <th>0</th>\n",
              "      <td>बार राव ने बारमेर की स्थापना कब की थी?</td>\n",
              "      <td>\\n\\n \\n\\nद्वारका के मुख्य आकर्षण है  बेट द्वार...</td>\n",
              "      <td>\\n\\nवे पर्यटक जो द्वारका की सैर करने की योजना ...</td>\n",
              "      <td>\\n\\nद्वारका का मौसम लगभग पूरे वर्ष खुशनुमा रहत...</td>\n",
              "    </tr>\n",
              "    <tr>\n",
              "      <th>1</th>\n",
              "      <td>हमारे लेडी का चैपल कब बनाया गया?</td>\n",
              "      <td>\\n\\n \\n\\nजोधपुर के मुख्य आकर्षण है  कैथिडरल कै...</td>\n",
              "      <td>हालांकि जनवरी 2013 से यह एयरपोर्ट बंद पड़ा है</td>\n",
              "      <td>मुख्य शहर से 30 किमी दूर उमरोई में एयरपोर्ट भ...</td>\n",
              "    </tr>\n",
              "    <tr>\n",
              "      <th>2</th>\n",
              "      <td>कांगला' शब्द का शाब्दिक अर्थ क्या है?</td>\n",
              "      <td>\\n\\n \\n\\nद्वारका के मुख्य आकर्षण है  बेट द्वार...</td>\n",
              "      <td>\\n\\nवे पर्यटक जो द्वारका की सैर करने की योजना ...</td>\n",
              "      <td>\\n\\nद्वारका का मौसम लगभग पूरे वर्ष खुशनुमा रहत...</td>\n",
              "    </tr>\n",
              "    <tr>\n",
              "      <th>3</th>\n",
              "      <td>इम्फाल में केवल महिलाओं द्वारा संचालित बाजार क...</td>\n",
              "      <td>\\n\\n</td>\n",
              "      <td>यह विशेष रूप से तब होते हैं जब उत्पादों का गल...</td>\n",
              "      <td>\\n\\nब्लिच स्ट्रेनग्थनरर्स रंग टिंट रिलॅक्सर्स ...</td>\n",
              "    </tr>\n",
              "    <tr>\n",
              "      <th>4</th>\n",
              "      <td>इमा किथेल' का शाब्दिक अर्थ क्या है?</td>\n",
              "      <td>\\n\\n \\n\\nबाड़मेर के मुख्य आकर्षण है  चिंतामणि ...</td>\n",
              "      <td>\\n\\nबाड़मेर जाने का सबसे अच्छा समय अक्टूबर से...</td>\n",
              "      <td>जोधपुर हवाई अड्डा यहाँ का निकटतम हवाई अड्डा ह...</td>\n",
              "    </tr>\n",
              "    <tr>\n",
              "      <th>...</th>\n",
              "      <td>...</td>\n",
              "      <td>...</td>\n",
              "      <td>...</td>\n",
              "      <td>...</td>\n",
              "    </tr>\n",
              "    <tr>\n",
              "      <th>1531</th>\n",
              "      <td>व्हूपिंग खांसी या 100 दिन की खाँसी के रूप में ...</td>\n",
              "      <td>\\n</td>\n",
              "      <td>इसके इस्तेमाल से होनेवाले प्रयोग की व्यवस्थित...</td>\n",
              "      <td>[कृपया उद्धरण जोड़ें]\\n\\nइलाज में विटामिन ए के...</td>\n",
              "    </tr>\n",
              "    <tr>\n",
              "      <th>1532</th>\n",
              "      <td>संक्रमण और लक्षणों की शुरुआत के बीच का समय क्य...</td>\n",
              "      <td>\\n</td>\n",
              "      <td>इसके इस्तेमाल से होनेवाले प्रयोग की व्यवस्थित...</td>\n",
              "      <td>[कृपया उद्धरण जोड़ें]\\n\\nइलाज में विटामिन ए के...</td>\n",
              "    </tr>\n",
              "    <tr>\n",
              "      <th>1533</th>\n",
              "      <td>दो साल से कम उम्र के बच्चों की श्वसन प्रणाली क...</td>\n",
              "      <td>\\n</td>\n",
              "      <td>तथापि 6 वर्ष की आयु के बाद वर्धक टीकाकरण की स...</td>\n",
              "      <td>पहले वाला संक्रमण और टीकाकरण जिंदगीभर असंक्रम...</td>\n",
              "    </tr>\n",
              "    <tr>\n",
              "      <th>1534</th>\n",
              "      <td>बोर्डटेला पर्टुसिस जीवाणु के कारण क्या होता है?</td>\n",
              "      <td>\\n</td>\n",
              "      <td>आधुनिक चिकित्सा ने प्लेग की घातकता नष्टप्राय ...</td>\n",
              "      <td>जीवावसादकों में स्ट्रेप्टोमाइसिन तथा सल्फा औष...</td>\n",
              "    </tr>\n",
              "    <tr>\n",
              "      <th>1535</th>\n",
              "      <td>बैक्टीरियम पर्टुसिस किस कारण होता है?</td>\n",
              "      <td>\\n\\n</td>\n",
              "      <td>यह विशेष रूप से तब होते हैं जब उत्पादों का गल...</td>\n",
              "      <td>\\n\\nब्लिच स्ट्रेनग्थनरर्स रंग टिंट रिलॅक्सर्स ...</td>\n",
              "    </tr>\n",
              "  </tbody>\n",
              "</table>\n",
              "<p>1536 rows × 4 columns</p>\n",
              "</div>"
            ],
            "text/plain": [
              "                                               question  ...                                            answer3\n",
              "0                बार राव ने बारमेर की स्थापना कब की थी?  ...  \\n\\nद्वारका का मौसम लगभग पूरे वर्ष खुशनुमा रहत...\n",
              "1                      हमारे लेडी का चैपल कब बनाया गया?  ...   मुख्य शहर से 30 किमी दूर उमरोई में एयरपोर्ट भ...\n",
              "2                 कांगला' शब्द का शाब्दिक अर्थ क्या है?  ...  \\n\\nद्वारका का मौसम लगभग पूरे वर्ष खुशनुमा रहत...\n",
              "3     इम्फाल में केवल महिलाओं द्वारा संचालित बाजार क...  ...  \\n\\nब्लिच स्ट्रेनग्थनरर्स रंग टिंट रिलॅक्सर्स ...\n",
              "4                   इमा किथेल' का शाब्दिक अर्थ क्या है?  ...   जोधपुर हवाई अड्डा यहाँ का निकटतम हवाई अड्डा ह...\n",
              "...                                                 ...  ...                                                ...\n",
              "1531  व्हूपिंग खांसी या 100 दिन की खाँसी के रूप में ...  ...  [कृपया उद्धरण जोड़ें]\\n\\nइलाज में विटामिन ए के...\n",
              "1532  संक्रमण और लक्षणों की शुरुआत के बीच का समय क्य...  ...  [कृपया उद्धरण जोड़ें]\\n\\nइलाज में विटामिन ए के...\n",
              "1533  दो साल से कम उम्र के बच्चों की श्वसन प्रणाली क...  ...   पहले वाला संक्रमण और टीकाकरण जिंदगीभर असंक्रम...\n",
              "1534    बोर्डटेला पर्टुसिस जीवाणु के कारण क्या होता है?  ...   जीवावसादकों में स्ट्रेप्टोमाइसिन तथा सल्फा औष...\n",
              "1535              बैक्टीरियम पर्टुसिस किस कारण होता है?  ...  \\n\\nब्लिच स्ट्रेनग्थनरर्स रंग टिंट रिलॅक्सर्स ...\n",
              "\n",
              "[1536 rows x 4 columns]"
            ]
          },
          "metadata": {
            "tags": []
          },
          "execution_count": 39
        }
      ]
    },
    {
      "cell_type": "code",
      "metadata": {
        "id": "wwa52PqzJUKg"
      },
      "source": [
        "dh = pd.read_excel(\"Hindi_MMQA.xlsx\")"
      ],
      "execution_count": 41,
      "outputs": []
    },
    {
      "cell_type": "code",
      "metadata": {
        "colab": {
          "base_uri": "https://localhost:8080/",
          "height": 570
        },
        "id": "v0MCrnwyJexR",
        "outputId": "d32f097b-48fc-4364-c860-acc5ec574f3b"
      },
      "source": [
        "dh"
      ],
      "execution_count": 42,
      "outputs": [
        {
          "output_type": "execute_result",
          "data": {
            "text/html": [
              "<div>\n",
              "<style scoped>\n",
              "    .dataframe tbody tr th:only-of-type {\n",
              "        vertical-align: middle;\n",
              "    }\n",
              "\n",
              "    .dataframe tbody tr th {\n",
              "        vertical-align: top;\n",
              "    }\n",
              "\n",
              "    .dataframe thead th {\n",
              "        text-align: right;\n",
              "    }\n",
              "</style>\n",
              "<table border=\"1\" class=\"dataframe\">\n",
              "  <thead>\n",
              "    <tr style=\"text-align: right;\">\n",
              "      <th></th>\n",
              "      <th>ID</th>\n",
              "      <th>Question (English)</th>\n",
              "      <th>Question (Hindi)</th>\n",
              "      <th>Domain</th>\n",
              "      <th>Answer (English)</th>\n",
              "      <th>Answer String(English)</th>\n",
              "      <th>Answer (Hindi)</th>\n",
              "      <th>Answer String(Hindi)</th>\n",
              "      <th>Availability in</th>\n",
              "      <th>Answer Type</th>\n",
              "    </tr>\n",
              "  </thead>\n",
              "  <tbody>\n",
              "    <tr>\n",
              "      <th>0</th>\n",
              "      <td>1912</td>\n",
              "      <td>When did Bar Rao founded Barmer?</td>\n",
              "      <td>बार राव ने बारमेर की स्थापना कब की थी?</td>\n",
              "      <td>Tourism</td>\n",
              "      <td>13th century</td>\n",
              "      <td>Barmer gets its name from its ruler Bahada Rao...</td>\n",
              "      <td>13 वीं शताब्दी</td>\n",
              "      <td>इस शहर को 13 वीं शताब्दी ईस्वी में बहाडा  राव ...</td>\n",
              "      <td>Both</td>\n",
              "      <td>Factoid</td>\n",
              "    </tr>\n",
              "    <tr>\n",
              "      <th>1</th>\n",
              "      <td>1544</td>\n",
              "      <td>When did the Chapel of our Lady constructed?</td>\n",
              "      <td>हमारे लेडी का चैपल कब बनाया गया?</td>\n",
              "      <td>Tourism</td>\n",
              "      <td>NaN</td>\n",
              "      <td>NaN</td>\n",
              "      <td>17वीं शताब्दी</td>\n",
              "      <td>चैपल ऑफ आवर लेडी ऑफ रोजरी दमन के पुराने धार्मि...</td>\n",
              "      <td>Hindi</td>\n",
              "      <td>Factoid</td>\n",
              "    </tr>\n",
              "    <tr>\n",
              "      <th>2</th>\n",
              "      <td>1943</td>\n",
              "      <td>What is the literal meaning of the word 'Kangla'?</td>\n",
              "      <td>कांगला' शब्द का शाब्दिक अर्थ क्या है?</td>\n",
              "      <td>Tourism</td>\n",
              "      <td>NaN</td>\n",
              "      <td>NaN</td>\n",
              "      <td>शुष्क भूमि</td>\n",
              "      <td>कांगला' एक मेइती शब्द है, जिसका अर्थ है 'शुष्क...</td>\n",
              "      <td>Hindi</td>\n",
              "      <td>Factoid</td>\n",
              "    </tr>\n",
              "    <tr>\n",
              "      <th>3</th>\n",
              "      <td>1944</td>\n",
              "      <td>What is the name of the market in Imphal run b...</td>\n",
              "      <td>इम्फाल में केवल महिलाओं द्वारा संचालित बाजार क...</td>\n",
              "      <td>Tourism</td>\n",
              "      <td>NaN</td>\n",
              "      <td>NaN</td>\n",
              "      <td>इमा किथेल'</td>\n",
              "      <td>इम्फाल की यात्रा के दौरान, पर्यटकों को ख्वैराम...</td>\n",
              "      <td>Hindi</td>\n",
              "      <td>Factoid</td>\n",
              "    </tr>\n",
              "    <tr>\n",
              "      <th>4</th>\n",
              "      <td>1945</td>\n",
              "      <td>What is the literal meaning of 'Ima Keithel'?</td>\n",
              "      <td>इमा किथेल' का शाब्दिक अर्थ क्या है?</td>\n",
              "      <td>Tourism</td>\n",
              "      <td>NaN</td>\n",
              "      <td>NaN</td>\n",
              "      <td>माँ का बाजार</td>\n",
              "      <td>इमा किथेल' का वस्तुतः मतलब है माँ का बाजार।</td>\n",
              "      <td>Hindi</td>\n",
              "      <td>Factoid</td>\n",
              "    </tr>\n",
              "    <tr>\n",
              "      <th>...</th>\n",
              "      <td>...</td>\n",
              "      <td>...</td>\n",
              "      <td>...</td>\n",
              "      <td>...</td>\n",
              "      <td>...</td>\n",
              "      <td>...</td>\n",
              "      <td>...</td>\n",
              "      <td>...</td>\n",
              "      <td>...</td>\n",
              "      <td>...</td>\n",
              "    </tr>\n",
              "    <tr>\n",
              "      <th>1531</th>\n",
              "      <td>2001</td>\n",
              "      <td>What is also known as a whooping cough or a 10...</td>\n",
              "      <td>व्हूपिंग खांसी या 100 दिन की खाँसी के रूप में ...</td>\n",
              "      <td>Diseases</td>\n",
              "      <td>Pertussis</td>\n",
              "      <td>Pertussis (also known as whooping cough or 100...</td>\n",
              "      <td>पर्टसिस</td>\n",
              "      <td>कूकर कास या कूकर खांसी या काली खांसी (अंग्रेज़...</td>\n",
              "      <td>Both</td>\n",
              "      <td>Factoid</td>\n",
              "    </tr>\n",
              "    <tr>\n",
              "      <th>1532</th>\n",
              "      <td>2006</td>\n",
              "      <td>What is the time between infection and the ons...</td>\n",
              "      <td>संक्रमण और लक्षणों की शुरुआत के बीच का समय क्य...</td>\n",
              "      <td>Diseases</td>\n",
              "      <td>seven to ten days.</td>\n",
              "      <td>The time between infection and the onset of sy...</td>\n",
              "      <td>7 से 17 दिनों</td>\n",
              "      <td>लक्षण: जीवाणु संक्रमण के आरंभ से 7 से 17 दिनों...</td>\n",
              "      <td>Both</td>\n",
              "      <td>Factoid</td>\n",
              "    </tr>\n",
              "    <tr>\n",
              "      <th>1533</th>\n",
              "      <td>2005</td>\n",
              "      <td>What often affects the respiratory system of c...</td>\n",
              "      <td>दो साल से कम उम्र के बच्चों की श्वसन प्रणाली क...</td>\n",
              "      <td>Diseases</td>\n",
              "      <td>NaN</td>\n",
              "      <td>NaN</td>\n",
              "      <td>पर्टसिस</td>\n",
              "      <td>पर्टसिस प्रायः २ वर्ष से कम आयु के बच्चों की श...</td>\n",
              "      <td>Hindi</td>\n",
              "      <td>Factoid</td>\n",
              "    </tr>\n",
              "    <tr>\n",
              "      <th>1534</th>\n",
              "      <td>2008</td>\n",
              "      <td>What is caused by the bacterium Bordetella per...</td>\n",
              "      <td>बोर्डटेला पर्टुसिस जीवाणु के कारण क्या होता है?</td>\n",
              "      <td>Diseases</td>\n",
              "      <td>Pertussis</td>\n",
              "      <td>Pertussis is caused by the bacterium Bordetell...</td>\n",
              "      <td>पर्टसिस</td>\n",
              "      <td>पर्टसिस बोर्डेटेल्ला परट्यूसिया कहलाने वाले जी...</td>\n",
              "      <td>Both</td>\n",
              "      <td>Factoid</td>\n",
              "    </tr>\n",
              "    <tr>\n",
              "      <th>1535</th>\n",
              "      <td>2009</td>\n",
              "      <td>By which bacterium pertussis is caused?</td>\n",
              "      <td>बैक्टीरियम पर्टुसिस किस कारण होता है?</td>\n",
              "      <td>Diseases</td>\n",
              "      <td>Bordetella pertussis</td>\n",
              "      <td>Pertussis is caused by the bacterium Bordetell...</td>\n",
              "      <td>बोर्डेटेल्ला परट्यूसिया</td>\n",
              "      <td>पर्टसिस बोर्डेटेल्ला परट्यूसिया कहलाने वाले जी...</td>\n",
              "      <td>Both</td>\n",
              "      <td>Factoid</td>\n",
              "    </tr>\n",
              "  </tbody>\n",
              "</table>\n",
              "<p>1536 rows × 10 columns</p>\n",
              "</div>"
            ],
            "text/plain": [
              "        ID  ... Answer Type\n",
              "0     1912  ...     Factoid\n",
              "1     1544  ...     Factoid\n",
              "2     1943  ...     Factoid\n",
              "3     1944  ...     Factoid\n",
              "4     1945  ...     Factoid\n",
              "...    ...  ...         ...\n",
              "1531  2001  ...     Factoid\n",
              "1532  2006  ...     Factoid\n",
              "1533  2005  ...     Factoid\n",
              "1534  2008  ...     Factoid\n",
              "1535  2009  ...     Factoid\n",
              "\n",
              "[1536 rows x 10 columns]"
            ]
          },
          "metadata": {
            "tags": []
          },
          "execution_count": 42
        }
      ]
    },
    {
      "cell_type": "code",
      "metadata": {
        "colab": {
          "base_uri": "https://localhost:8080/"
        },
        "id": "3yBIvM4IJip1",
        "outputId": "e2584556-9e80-4a16-c4f8-ef35a9a84899"
      },
      "source": [
        "original = dh['Answer String(Hindi)']\r\n",
        "print(original)"
      ],
      "execution_count": 46,
      "outputs": [
        {
          "output_type": "stream",
          "text": [
            "0       इस शहर को 13 वीं शताब्दी ईस्वी में बहाडा  राव ...\n",
            "1       चैपल ऑफ आवर लेडी ऑफ रोजरी दमन के पुराने धार्मि...\n",
            "2       कांगला' एक मेइती शब्द है, जिसका अर्थ है 'शुष्क...\n",
            "3       इम्फाल की यात्रा के दौरान, पर्यटकों को ख्वैराम...\n",
            "4             इमा किथेल' का वस्तुतः मतलब है माँ का बाजार।\n",
            "                              ...                        \n",
            "1531    कूकर कास या कूकर खांसी या काली खांसी (अंग्रेज़...\n",
            "1532    लक्षण: जीवाणु संक्रमण के आरंभ से 7 से 17 दिनों...\n",
            "1533    पर्टसिस प्रायः २ वर्ष से कम आयु के बच्चों की श...\n",
            "1534    पर्टसिस बोर्डेटेल्ला परट्यूसिया कहलाने वाले जी...\n",
            "1535    पर्टसिस बोर्डेटेल्ला परट्यूसिया कहलाने वाले जी...\n",
            "Name: Answer String(Hindi), Length: 1536, dtype: object\n"
          ],
          "name": "stdout"
        }
      ]
    },
    {
      "cell_type": "code",
      "metadata": {
        "colab": {
          "base_uri": "https://localhost:8080/"
        },
        "id": "9N5f9ofBJrgl",
        "outputId": "f37838f7-3ea3-495a-a5d6-9d5502ceaccc"
      },
      "source": [
        "answer2 = df['answer2']\r\n",
        "print(answer2)"
      ],
      "execution_count": 44,
      "outputs": [
        {
          "output_type": "stream",
          "text": [
            "0       \\n\\nवे पर्यटक जो द्वारका की सैर करने की योजना ...\n",
            "1           हालांकि जनवरी 2013 से यह एयरपोर्ट बंद पड़ा है\n",
            "2       \\n\\nवे पर्यटक जो द्वारका की सैर करने की योजना ...\n",
            "3        यह विशेष रूप से तब होते हैं जब उत्पादों का गल...\n",
            "4         \\n\\nबाड़मेर जाने का सबसे अच्छा समय अक्टूबर से...\n",
            "                              ...                        \n",
            "1531     इसके इस्तेमाल से होनेवाले प्रयोग की व्यवस्थित...\n",
            "1532     इसके इस्तेमाल से होनेवाले प्रयोग की व्यवस्थित...\n",
            "1533     तथापि 6 वर्ष की आयु के बाद वर्धक टीकाकरण की स...\n",
            "1534     आधुनिक चिकित्सा ने प्लेग की घातकता नष्टप्राय ...\n",
            "1535     यह विशेष रूप से तब होते हैं जब उत्पादों का गल...\n",
            "Name: answer2, Length: 1536, dtype: object\n"
          ],
          "name": "stdout"
        }
      ]
    },
    {
      "cell_type": "code",
      "metadata": {
        "colab": {
          "base_uri": "https://localhost:8080/"
        },
        "id": "kn7MIDTyJyce",
        "outputId": "67c7dfa0-9838-41e7-8a1b-5c23fa22e81d"
      },
      "source": [
        "answer3 = df['answer3']\r\n",
        "print(answer3)"
      ],
      "execution_count": 45,
      "outputs": [
        {
          "output_type": "stream",
          "text": [
            "0       \\n\\nद्वारका का मौसम लगभग पूरे वर्ष खुशनुमा रहत...\n",
            "1        मुख्य शहर से 30 किमी दूर उमरोई में एयरपोर्ट भ...\n",
            "2       \\n\\nद्वारका का मौसम लगभग पूरे वर्ष खुशनुमा रहत...\n",
            "3       \\n\\nब्लिच स्ट्रेनग्थनरर्स रंग टिंट रिलॅक्सर्स ...\n",
            "4        जोधपुर हवाई अड्डा यहाँ का निकटतम हवाई अड्डा ह...\n",
            "                              ...                        \n",
            "1531    [कृपया उद्धरण जोड़ें]\\n\\nइलाज में विटामिन ए के...\n",
            "1532    [कृपया उद्धरण जोड़ें]\\n\\nइलाज में विटामिन ए के...\n",
            "1533     पहले वाला संक्रमण और टीकाकरण जिंदगीभर असंक्रम...\n",
            "1534     जीवावसादकों में स्ट्रेप्टोमाइसिन तथा सल्फा औष...\n",
            "1535    \\n\\nब्लिच स्ट्रेनग्थनरर्स रंग टिंट रिलॅक्सर्स ...\n",
            "Name: answer3, Length: 1536, dtype: object\n"
          ],
          "name": "stdout"
        }
      ]
    },
    {
      "cell_type": "code",
      "metadata": {
        "id": "_G6M04BkNch5"
      },
      "source": [
        "score = []"
      ],
      "execution_count": null,
      "outputs": []
    },
    {
      "cell_type": "code",
      "metadata": {
        "id": "oIAL15vVJ4Yr"
      },
      "source": [
        "def f1score(original, answer):\r\n",
        "  for i in range(len(answer)):\r\n",
        "    precision = len(set(answer) & set(original))/(len(original) + len(set(answer) & set(original))\r\n",
        "    recall = len(set(answer) & set(original))/(len(answer) + len(set(answer) & set(original))\r\n",
        "    score.append(2*precision*recall/(precision + recall))"
      ],
      "execution_count": null,
      "outputs": []
    }
  ]
}