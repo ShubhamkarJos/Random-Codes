{
  "nbformat": 4,
  "nbformat_minor": 0,
  "metadata": {
    "colab": {
      "name": "Multistage_Graph.ipynb",
      "provenance": [],
      "collapsed_sections": []
    },
    "kernelspec": {
      "name": "python3",
      "display_name": "Python 3"
    }
  },
  "cells": [
    {
      "cell_type": "code",
      "metadata": {
        "id": "GZUK01KqVf-Q"
      },
      "source": [
        "import numpy as np\n",
        "import pandas as pd"
      ],
      "execution_count": 129,
      "outputs": []
    },
    {
      "cell_type": "code",
      "metadata": {
        "id": "PYrsFfPjYHXv",
        "outputId": "22ab5bfc-4fc0-41de-f117-c5225e11ff4f",
        "colab": {
          "base_uri": "https://localhost:8080/",
          "height": 602
        }
      },
      "source": [
        "print(\"Multistage Graph\\n\")\n",
        "size = int(input(\"Enter number of Nodes : \" ))\n",
        "\n",
        "stage = []\n",
        "stage.append(0)\n",
        "#Taking stage of vertices\n",
        "for i in range(1,size+1):\n",
        "  v = int(input(f\"Enter stage of vertex {i} : \"))\n",
        "  stage.append(v)\n",
        "\n",
        "#printing vertex,stage\n",
        "for i in range(1,size+1):\n",
        "  print(f\"vertex {i} : stage {stage[i-1]}\")\n",
        "\n",
        "#initializing  adj matrix to zero\n",
        "c = np.zeros((size+1,size+1))\n",
        "\n",
        "#taking cost according to the constraints \n",
        "for j in range(1,size+1):\n",
        "  for i in range(1,size+1):\n",
        "    v = []\n",
        "    if stage[j] + 1 == stage[i]:\n",
        "      \n",
        "      c[j][i] = int(input(f'Enter cost from {j} to {i} : '))\n",
        "print(c)\n"
      ],
      "execution_count": 130,
      "outputs": [
        {
          "output_type": "stream",
          "text": [
            "Multistage Graph\n",
            "\n",
            "Enter number of Nodes : 7\n",
            "Enter stage of vertex 1 : 1\n",
            "Enter stage of vertex 2 : 2\n",
            "Enter stage of vertex 3 : 2\n",
            "Enter stage of vertex 4 : 2\n",
            "Enter stage of vertex 5 : 3\n",
            "Enter stage of vertex 6 : 3\n",
            "Enter stage of vertex 7 : 4\n",
            "vertex 1 : stage 0\n",
            "vertex 2 : stage 1\n",
            "vertex 3 : stage 2\n",
            "vertex 4 : stage 2\n",
            "vertex 5 : stage 2\n",
            "vertex 6 : stage 3\n",
            "vertex 7 : stage 3\n",
            "Enter cost from 1 to 2 : 9\n",
            "Enter cost from 1 to 3 : 7\n",
            "Enter cost from 1 to 4 : 3\n",
            "Enter cost from 2 to 5 : 4\n",
            "Enter cost from 2 to 6 : 2\n",
            "Enter cost from 3 to 5 : 2\n",
            "Enter cost from 3 to 6 : 7\n",
            "Enter cost from 4 to 5 : 0\n",
            "Enter cost from 4 to 6 : 8\n",
            "Enter cost from 5 to 7 : 3\n",
            "Enter cost from 6 to 7 : 6\n",
            "[[0. 0. 0. 0. 0. 0. 0. 0.]\n",
            " [0. 0. 9. 7. 3. 0. 0. 0.]\n",
            " [0. 0. 0. 0. 0. 4. 2. 0.]\n",
            " [0. 0. 0. 0. 0. 2. 7. 0.]\n",
            " [0. 0. 0. 0. 0. 0. 8. 0.]\n",
            " [0. 0. 0. 0. 0. 0. 0. 3.]\n",
            " [0. 0. 0. 0. 0. 0. 0. 6.]\n",
            " [0. 0. 0. 0. 0. 0. 0. 0.]]\n"
          ],
          "name": "stdout"
        }
      ]
    },
    {
      "cell_type": "code",
      "metadata": {
        "id": "t4sNwTBiF6ev",
        "outputId": "e75c968a-d21e-401c-8952-ad7b3542f0ae",
        "colab": {
          "base_uri": "https://localhost:8080/",
          "height": 147
        }
      },
      "source": [
        "c = c.astype(int)\n",
        "print(c)"
      ],
      "execution_count": 131,
      "outputs": [
        {
          "output_type": "stream",
          "text": [
            "[[0 0 0 0 0 0 0 0]\n",
            " [0 0 9 7 3 0 0 0]\n",
            " [0 0 0 0 0 4 2 0]\n",
            " [0 0 0 0 0 2 7 0]\n",
            " [0 0 0 0 0 0 8 0]\n",
            " [0 0 0 0 0 0 0 3]\n",
            " [0 0 0 0 0 0 0 6]\n",
            " [0 0 0 0 0 0 0 0]]\n"
          ],
          "name": "stdout"
        }
      ]
    },
    {
      "cell_type": "code",
      "metadata": {
        "id": "cSo2xFj7-C8t",
        "outputId": "f16832a6-9011-4454-e8e0-5664c71f2fbe",
        "colab": {
          "base_uri": "https://localhost:8080/",
          "height": 50
        }
      },
      "source": [
        "#creating and converting cost and d arrays\n",
        "cost = np.zeros(size+1)\n",
        "d = np.zeros(size+1)\n",
        "print(f'{d} and {cost}')\n",
        "cost = cost.astype(int)\n",
        "d = d.astype(int)\n",
        "print(f'{d} and {cost}')"
      ],
      "execution_count": 132,
      "outputs": [
        {
          "output_type": "stream",
          "text": [
            "[0. 0. 0. 0. 0. 0. 0. 0.] and [0. 0. 0. 0. 0. 0. 0. 0.]\n",
            "[0 0 0 0 0 0 0 0] and [0 0 0 0 0 0 0 0]\n"
          ],
          "name": "stdout"
        }
      ]
    },
    {
      "cell_type": "code",
      "metadata": {
        "id": "YSX5SJUJPRI9"
      },
      "source": [
        "#initializing last values of cost and d array\n",
        "d[size] = size\n",
        "cost[size] = 0"
      ],
      "execution_count": 133,
      "outputs": []
    },
    {
      "cell_type": "code",
      "metadata": {
        "id": "Ouanh6IO7zlW",
        "outputId": "f3f5b65e-6462-47bf-a27c-de46c4778d36",
        "colab": {
          "base_uri": "https://localhost:8080/",
          "height": 33
        }
      },
      "source": [
        "for i in range(size-1,0,-1):\n",
        "  min = 9999\n",
        "  for k in range(i+1,size+1):\n",
        "    if c[i][k] != 0 and c[i][k] + cost[k] < min:\n",
        "      min = c[i][k] + cost[k]\n",
        "      d[i] = k\n",
        "    \n",
        "  cost[i] = min\n",
        "\n",
        "p = np.zeros(size+1)\n",
        "p = p.astype(int)\n",
        "p[1] = 1\n",
        "p[stage[len(stage) -1]] = size\n",
        "\n",
        "\n",
        "\n",
        "for i in range(2, stage[len(stage)-1]):\n",
        " \n",
        "  p[i] = d[p[i-1]]\n",
        "\n",
        "print(np.trim_zeros(p))\n",
        "    \n"
      ],
      "execution_count": 134,
      "outputs": [
        {
          "output_type": "stream",
          "text": [
            "[1 3 5 7]\n"
          ],
          "name": "stdout"
        }
      ]
    }
  ]
}