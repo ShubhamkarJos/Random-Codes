{
  "nbformat": 4,
  "nbformat_minor": 0,
  "metadata": {
    "colab": {
      "name": "The Minion Game.ipynb",
      "provenance": []
    },
    "kernelspec": {
      "name": "python3",
      "display_name": "Python 3"
    }
  },
  "cells": [
    {
      "cell_type": "markdown",
      "metadata": {
        "id": "kUw2331ClHu8",
        "colab_type": "text"
      },
      "source": [
        "Both players are given the same string, .\n",
        "Both players have to make substrings using the letters of the string .\n",
        "Stuart has to make words starting with consonants.\n",
        "Kevin has to make words starting with vowels.\n",
        "The game ends when both players have made all possible substrings.\n",
        "\n",
        "Scoring\n",
        "A player gets +1 point for each occurrence of the substring in the string .\n",
        "\n",
        "For Example:\n",
        "String  = BANANA\n",
        "Kevin's vowel beginning word = ANA\n",
        "Here, ANA occurs twice in BANANA. Hence, Kevin will get 2 Points.\n",
        "\n"
      ]
    },
    {
      "cell_type": "code",
      "metadata": {
        "id": "V1ulKNDCcDOh",
        "colab_type": "code",
        "colab": {
          "base_uri": "https://localhost:8080/",
          "height": 52
        },
        "outputId": "29833828-e231-4e97-cac2-87a5bd04ef01"
      },
      "source": [
        "def minion_game(string):\n",
        "    scores = {\"Kevin\": 0, \"Stuart\": 0}\n",
        "    for i in range(len(string)):\n",
        "        if string[i] in \"AEIOU\":\n",
        "            scores[\"Kevin\"]+=len(string)-i\n",
        "        else:\n",
        "            scores[\"Stuart\"]+=len(string)-i\n",
        "    if scores[\"Stuart\"] == scores[\"Kevin\"]:\n",
        "        print(\"Draw\")\n",
        "    elif scores[\"Stuart\"] > scores[\"Kevin\"]:\n",
        "        print(\"%s %s\" %(\"Stuart\", scores[\"Stuart\"]))\n",
        "    else:\n",
        "        print(\"%s %s\" %(\"Kevin\", scores[\"Kevin\"]))\n",
        "\n",
        "\n",
        "if __name__ == '__main__':\n",
        "    s = input()\n",
        "    minion_game(s)"
      ],
      "execution_count": 6,
      "outputs": [
        {
          "output_type": "stream",
          "text": [
            "ASHISH\n",
            "6\n"
          ],
          "name": "stdout"
        }
      ]
    }
  ]
}