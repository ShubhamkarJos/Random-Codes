{
  "nbformat": 4,
  "nbformat_minor": 0,
  "metadata": {
    "colab": {
      "name": "Monte-Carlo.ipynb",
      "provenance": []
    },
    "kernelspec": {
      "name": "python3",
      "display_name": "Python 3"
    }
  },
  "cells": [
    {
      "cell_type": "code",
      "metadata": {
        "id": "VYZk1Sjn7F8k"
      },
      "source": [
        "Search(A, key)\n",
        "{\n",
        "    for i in range(0,n):\n",
        "      if A[i] == key:\n",
        "        return True\n",
        "}"
      ],
      "execution_count": null,
      "outputs": []
    },
    {
      "cell_type": "code",
      "metadata": {
        "id": "kVnfI9Mn7xjn"
      },
      "source": [
        "MonteSearch(A, key, x):\n",
        "{\n",
        "    for i in range(0, x):\n",
        "      j = random.randint(0,n+1)%n\n",
        "      if A[j] == a:\n",
        "        return True\n",
        "}"
      ],
      "execution_count": null,
      "outputs": []
    }
  ]
}