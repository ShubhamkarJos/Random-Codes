{
  "nbformat": 4,
  "nbformat_minor": 0,
  "metadata": {
    "colab": {
      "name": "Untitled7.ipynb",
      "provenance": [],
      "collapsed_sections": []
    },
    "kernelspec": {
      "name": "python3",
      "display_name": "Python 3"
    }
  },
  "cells": [
    {
      "cell_type": "code",
      "metadata": {
        "id": "PYgC559fhk-3",
        "colab_type": "code",
        "colab": {
          "base_uri": "https://localhost:8080/",
          "height": 138
        },
        "outputId": "ef71b32c-8da3-4b06-bbf0-704081e67e83"
      },
      "source": [
        "lst = []\n",
        "num = int(input(\"Enter number of numbers: \"))\n",
        "for n in range(num):\n",
        " numbers = int(input(\"Enter any number: \\t\"))\n",
        " lst.append(numbers)\n",
        " \n",
        "x = int(input(\"\\nEnter number to search: \\t\"))\n",
        "flag=False\n",
        " \n",
        "for i in range(len(lst)):\n",
        " if lst[i] == x:\n",
        "  flag = True\n",
        "  print(\"Found\")\n",
        "  break\n",
        "if not flag:\n",
        " print(\"Not Found\")"
      ],
      "execution_count": 13,
      "outputs": [
        {
          "output_type": "stream",
          "text": [
            "3\n",
            "Enter any number: \t9\n",
            "Enter any number: \t8\n",
            "Enter any number: \t7\n",
            "\n",
            "Enter number to search: \t3\n",
            "Not Found\n"
          ],
          "name": "stdout"
        }
      ]
    }
  ]
}