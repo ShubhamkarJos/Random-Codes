{
  "nbformat": 4,
  "nbformat_minor": 0,
  "metadata": {
    "colab": {
      "name": "print_function.ipynb",
      "provenance": [],
      "collapsed_sections": []
    },
    "kernelspec": {
      "name": "python3",
      "display_name": "Python 3"
    }
  },
  "cells": [
    {
      "cell_type": "markdown",
      "metadata": {
        "id": "yFpOowiIGKLL",
        "colab_type": "text"
      },
      "source": [
        "The included code stub will read an integer, n, from STDIN.\n",
        "\n",
        "Without using any string methods, try to print the following:\n",
        "\n",
        "\n",
        "Note that \"\" represents the consecutive values in between."
      ]
    },
    {
      "cell_type": "code",
      "metadata": {
        "id": "c5m3P0rODont",
        "colab_type": "code",
        "colab": {
          "base_uri": "https://localhost:8080/",
          "height": 52
        },
        "outputId": "0a4214ca-6431-4a60-99ac-018be45e0b95"
      },
      "source": [
        "n = int(input())\n",
        "\n",
        "lst = []\n",
        "\n",
        "for i in range(1,n+1):\n",
        "    lst.append(i)\n",
        "\n",
        "values = ''.join(str(v) for v in lst)\n",
        "print(values)"
      ],
      "execution_count": 11,
      "outputs": [
        {
          "output_type": "stream",
          "text": [
            "5\n",
            "12345\n"
          ],
          "name": "stdout"
        }
      ]
    },
    {
      "cell_type": "markdown",
      "metadata": {
        "id": "5mRWfo5-GHkp",
        "colab_type": "text"
      },
      "source": [
        ""
      ]
    }
  ]
}