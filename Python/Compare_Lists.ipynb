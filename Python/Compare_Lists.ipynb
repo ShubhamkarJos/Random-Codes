{
  "nbformat": 4,
  "nbformat_minor": 0,
  "metadata": {
    "colab": {
      "name": "Compare Lists.ipynb",
      "provenance": [],
      "collapsed_sections": []
    },
    "kernelspec": {
      "name": "python3",
      "display_name": "Python 3"
    }
  },
  "cells": [
    {
      "cell_type": "code",
      "metadata": {
        "id": "r_isJbnjP4oE",
        "colab_type": "code",
        "colab": {
          "base_uri": "https://localhost:8080/",
          "height": 115
        },
        "outputId": "3dcfdce5-f769-4d5b-f77b-1dad1f9f7252"
      },
      "source": [
        "n = int(input())    \n",
        "a = list(int(input()) for _ in range(n))\n",
        "\n",
        "m = int(input())    \n",
        "b = list(int(input()) for _ in range(m))"
      ],
      "execution_count": 4,
      "outputs": [
        {
          "output_type": "stream",
          "text": [
            "2\n",
            "6\n",
            "5\n",
            "2\n",
            "9\n",
            "8\n"
          ],
          "name": "stdout"
        }
      ]
    },
    {
      "cell_type": "code",
      "metadata": {
        "id": "YK2LoQ9iP-f5",
        "colab_type": "code",
        "colab": {
          "base_uri": "https://localhost:8080/",
          "height": 50
        },
        "outputId": "9bc9d69f-548d-422f-9dd3-b86743662224"
      },
      "source": [
        "print(a)\n",
        "print(b)"
      ],
      "execution_count": 5,
      "outputs": [
        {
          "output_type": "stream",
          "text": [
            "[6, 5]\n",
            "['9', '8']\n"
          ],
          "name": "stdout"
        }
      ]
    },
    {
      "cell_type": "code",
      "metadata": {
        "id": "SEUmUPSGSRQx",
        "colab_type": "code",
        "colab": {}
      },
      "source": [
        "t = int(input())\n",
        "\n",
        "while t > 0:\n",
        "    n = int(input())    \n",
        "    a = list(int(input()) for _ in range(n))\n",
        "\n",
        "    m = int(input())    \n",
        "    b = list(int(input()) for _ in range(m))\n",
        "\n",
        "\n",
        "    a.sort()\n",
        "    b.sort()\n",
        "\n",
        "    if len(a) > len(b):\n",
        "        for k in range(len(b)):\n",
        "            for j in range(len(a)):\n",
        "                if b[k] != a[j]:\n",
        "                    print(\"False\")\n",
        "                else:\n",
        "                    print(\"True\")\n",
        "\n",
        "    else:\n",
        "        for k in range(len(a)):\n",
        "            for j in range(len(b)):\n",
        "                if a[k] != b[j]:\n",
        "                    print(\"False\")\n",
        "                else:\n",
        "                    print(\"True\")\n",
        "\n",
        "\n",
        "\n",
        "    t = t - 1\n",
        "\n"
      ],
      "execution_count": null,
      "outputs": []
    },
    {
      "cell_type": "code",
      "metadata": {
        "id": "ur2zrZReUgIM",
        "colab_type": "code",
        "colab": {}
      },
      "source": [
        "for i in range(int(raw_input())): \n",
        "    a = int(raw_input()); A = set(raw_input().split()); \n",
        "    b = int(raw_input()); B = set(raw_input().split());\n",
        "    print A <= B\n"
      ],
      "execution_count": null,
      "outputs": []
    }
  ]
}