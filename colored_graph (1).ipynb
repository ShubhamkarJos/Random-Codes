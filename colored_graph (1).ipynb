{
  "nbformat": 4,
  "nbformat_minor": 0,
  "metadata": {
    "colab": {
      "name": "colored_graph.ipynb",
      "provenance": [],
      "collapsed_sections": []
    },
    "kernelspec": {
      "name": "python3",
      "display_name": "Python 3"
    }
  },
  "cells": [
    {
      "cell_type": "code",
      "metadata": {
        "id": "evSGjWfwEa3w"
      },
      "source": [
        "#Iterating through adjacent vertices and checking if color is same\n",
        "def check(n, graph, colors, c):\n",
        "  for i in range(n):\n",
        "    if graph[n][i] and c == colors[i]: return False\n",
        "  return True   "
      ],
      "execution_count": 47,
      "outputs": []
    },
    {
      "cell_type": "code",
      "metadata": {
        "id": "muuBLzYsGlmG"
      },
      "source": [
        "#checking if all vertices have color\n",
        "def valid(graph, color_nb, colors, n):\n",
        "  if color_nb + 1 == n:\n",
        "    return True\n",
        "\n",
        "  # Trying differents color for the vertex n\n",
        "  for c in range(1, color_nb+1):\n",
        "    # Check if assignment of color c to n is possible\n",
        "    if check(n, graph, colors, c):\n",
        "      # Assign color c to n\n",
        "      colors[n] = c\n",
        "      # Recursively assign colors to the rest of the vertices\n",
        "      if valid(graph, color_nb, colors, n+1): \n",
        "        return True\n",
        "      # If there is no solution, remove color (BACKTRACKING)\n",
        "      colors[n] = 0"
      ],
      "execution_count": 48,
      "outputs": []
    },
    {
      "cell_type": "code",
      "metadata": {
        "id": "QVRMsAkwGnoe",
        "outputId": "7556736a-293b-49f1-dff6-d2fb79944c5a",
        "colab": {
          "base_uri": "https://localhost:8080/"
        }
      },
      "source": [
        "\n",
        "n = int(input(\"Enter number of vertices : \"))\n",
        "color_nb = int(input(\"Enter number of colors : \"))\n",
        "colors = [0] * n\n",
        "graph = [[0]*n]*n\n",
        "\n",
        "for j in range(0,n):\n",
        "  for i in range(0,n):\n",
        "   graph[i][j] = int(input(f'Is there a edge from from {j+1} to {i+1} : '))\n",
        "\n",
        "print(graph)\n",
        "if valid(graph, color_nb, colors, 0):\n",
        "    print(colors)\n",
        "else:\n",
        "    print(\"No solutions\")\n"
      ],
      "execution_count": 49,
      "outputs": [
        {
          "output_type": "stream",
          "text": [
            "Enter number of vertices : 4\n",
            "Enter number of colors : 2\n",
            "Is there a edge from from 1 to 1 : 0\n",
            "Is there a edge from from 1 to 2 : 1\n",
            "Is there a edge from from 1 to 3 : 0\n",
            "Is there a edge from from 1 to 4 : 1\n",
            "Is there a edge from from 2 to 1 : 1\n",
            "Is there a edge from from 2 to 2 : 0\n",
            "Is there a edge from from 2 to 3 : 1\n",
            "Is there a edge from from 2 to 4 : 0\n",
            "Is there a edge from from 3 to 1 : 0\n",
            "Is there a edge from from 3 to 2 : 1\n",
            "Is there a edge from from 3 to 3 : 0\n",
            "Is there a edge from from 3 to 4 : 1\n",
            "Is there a edge from from 4 to 1 : 1\n",
            "Is there a edge from from 4 to 2 : 0\n",
            "Is there a edge from from 4 to 3 : 1\n",
            "Is there a edge from from 4 to 4 : 0\n",
            "[[1, 0, 1, 0], [1, 0, 1, 0], [1, 0, 1, 0], [1, 0, 1, 0]]\n",
            "[1, 2, 2, 0]\n"
          ],
          "name": "stdout"
        }
      ]
    },
    {
      "cell_type": "code",
      "metadata": {
        "id": "P5DwBDR8PsB-",
        "outputId": "f89c04fe-27d5-4e8e-c4c4-bb6432b55a1f",
        "colab": {
          "base_uri": "https://localhost:8080/"
        }
      },
      "source": [
        "\n",
        "  \n",
        "class Graph(): \n",
        "  \n",
        "    def __init__(self, vertices): \n",
        "        self.V = vertices \n",
        "        self.graph = [[0 for column in range(vertices)] \n",
        "                              for row in range(vertices)] \n",
        "  \n",
        "    #function to check if the current color assignment is safe\n",
        "    def isSafe(self, v, colour, c): \n",
        "        for i in range(self.V): \n",
        "            if self.graph[v][i] == 1 and colour[i] == c: \n",
        "                return False\n",
        "        return True\n",
        "      \n",
        "    # A recursive function to solve m coloring problem\n",
        "    \n",
        "    def graphColourUtil(self, m, colour, v): \n",
        "        if v == self.V: \n",
        "            return True\n",
        "  \n",
        "        for c in range(1, m+1): \n",
        "            if self.isSafe(v, colour, c) == True: \n",
        "                colour[v] = c \n",
        "                if self.graphColourUtil(m, colour, v+1) == True: \n",
        "                    return True\n",
        "                colour[v] = 0\n",
        "  \n",
        "    def graphColouring(self, m): \n",
        "        colour = [0] * self.V \n",
        "        if self.graphColourUtil(m, colour, 0) == False: \n",
        "            return False\n",
        "  \n",
        "  \n",
        "        for c in colour: \n",
        "            print(c) \n",
        "        return True\n",
        "n = int(input(\"Enter no. of vertices : \"))\n",
        "\n",
        "\n",
        "c = [[0]*n]*n\n",
        "for j in range(0,n):\n",
        "  for i in range(0,n):\n",
        "   c[i][j] = int(input(f'Is there a edge from from {j+1} to {i+1} : ')) \n",
        "\n",
        "g  = Graph(n)\n",
        "g.graph = c\n",
        "m=int(input(\"Enter no. of colors : \"))\n",
        "g.graphColouring(m) \n",
        "  \n",
        "# This code is contributed by Divyanshu Mehta"
      ],
      "execution_count": 13,
      "outputs": [
        {
          "output_type": "stream",
          "text": [
            "Enter no. of vertices : 4\n",
            "Is there a edge from from 1 to 1 : 0\n",
            "Is there a edge from from 1 to 2 : 1\n",
            "Is there a edge from from 1 to 3 : 1\n",
            "Is there a edge from from 1 to 4 : 1\n",
            "Is there a edge from from 2 to 1 : 1\n",
            "Is there a edge from from 2 to 2 : 0\n",
            "Is there a edge from from 2 to 3 : 0\n",
            "Is there a edge from from 2 to 4 : 1\n",
            "Is there a edge from from 3 to 1 : 1\n",
            "Is there a edge from from 3 to 2 : 0\n",
            "Is there a edge from from 3 to 3 : 0\n",
            "Is there a edge from from 3 to 4 : 1\n",
            "Is there a edge from from 4 to 1 : 1\n",
            "Is there a edge from from 4 to 2 : 1\n",
            "Is there a edge from from 4 to 3 : 1\n",
            "Is there a edge from from 4 to 4 : 0\n",
            "Enter no. of colors : 3\n",
            "0\n",
            "0\n",
            "0\n",
            "0\n"
          ],
          "name": "stdout"
        },
        {
          "output_type": "execute_result",
          "data": {
            "text/plain": [
              "True"
            ]
          },
          "metadata": {
            "tags": []
          },
          "execution_count": 13
        }
      ]
    },
    {
      "cell_type": "code",
      "metadata": {
        "id": "vqkr1U1edl6s"
      },
      "source": [
        "def GraphColoring(k):\n",
        "  while True:\n",
        "    nextValue(k)\n",
        "    if x[k] == 0:\n",
        "      return\n",
        "    \n",
        "    if k == n:\n",
        "      print(\"pop\")\n",
        "      c = 1\n",
        "      for i in range(1,n+1):\n",
        "        print(\"popoy\")\n",
        "        print(x[i])\n",
        "      count = count + 1\n",
        "      print(\"\\n\")\n",
        "    \n",
        "    else:\n",
        "      GraphColoring(k+1)"
      ],
      "execution_count": 43,
      "outputs": []
    },
    {
      "cell_type": "code",
      "metadata": {
        "id": "cBdEGUZrejaV"
      },
      "source": [
        "def nextValue(k):\n",
        "  while True:\n",
        "    x[k] = (x[k] + 1)%(m + 1)\n",
        "    if x[k] == 0:\n",
        "      return\n",
        "    \n",
        "    for j in range(1,n+1):\n",
        "      if graph[k][j] == 1 and x[k] == x[j]:\n",
        "        break\n",
        "      \n",
        "      if j == n+1:\n",
        "        return\n"
      ],
      "execution_count": 44,
      "outputs": []
    },
    {
      "cell_type": "code",
      "metadata": {
        "id": "SM_TBnwAbRZQ",
        "outputId": "f88f6b33-b05e-4ea1-d72e-cd946245ceac",
        "colab": {
          "base_uri": "https://localhost:8080/"
        }
      },
      "source": [
        "n = int(input(\"Enter number of vertices : \"))\n",
        "x = [0]*(n+1)\n",
        "graph = [[0]*(n+1)]*(n+1)\n",
        "count = 0\n",
        "c = 0 \n",
        "for i in range(1,n+1):\n",
        "  for j in range(1,n+1):\n",
        "    if i == j:\n",
        "      graph[i][j] = 0\n",
        "    else:\n",
        "      graph[i][j] = int(input(f'Is there a edge from from {i} to {j} : '))\n",
        "\n",
        "print(graph)\n",
        "  \n",
        "print(\"Possible Solutions are :- \\n\")\n",
        "\n",
        "for m in range(1,n+1):\n",
        "  if c==1:\n",
        "    break0\n",
        "  GraphColoring(1)\n",
        "print(f\"The no of colors = {m-1}\")\n",
        "\n",
        "print(f\"Total number of solutions are {count}\")\n",
        "\n",
        "\n",
        "\n"
      ],
      "execution_count": 46,
      "outputs": [
        {
          "output_type": "stream",
          "text": [
            "Enter number of vertices : 4\n",
            "Is there a edge from from 1 to 2 : 1\n",
            "Is there a edge from from 1 to 3 : 0\n",
            "Is there a edge from from 1 to 4 : 1\n",
            "Is there a edge from from 2 to 1 : 1\n",
            "Is there a edge from from 2 to 3 : 1\n",
            "Is there a edge from from 2 to 4 : 0\n",
            "Is there a edge from from 3 to 1 : 0\n",
            "Is there a edge from from 3 to 2 : 1\n",
            "Is there a edge from from 3 to 4 : 1\n",
            "Is there a edge from from 4 to 1 : 1\n",
            "Is there a edge from from 4 to 2 : 0\n",
            "Is there a edge from from 4 to 3 : 1\n",
            "[[0, 1, 0, 1, 0], [0, 1, 0, 1, 0], [0, 1, 0, 1, 0], [0, 1, 0, 1, 0], [0, 1, 0, 1, 0]]\n",
            "Possible Solutions are :- \n",
            "\n",
            "The no of colors = 3\n",
            "Total number of solutions are 0\n"
          ],
          "name": "stdout"
        }
      ]
    },
    {
      "cell_type": "code",
      "metadata": {
        "id": "U2UjA5z8cV_R"
      },
      "source": [
        "def is_safe(n, graph, colors, c):\n",
        "    # Iterate trough adjacent vertices\n",
        "    # and check if the vertex color is different from c\n",
        "    for i in range(n):\n",
        "        if graph[n][i] and c == colors[i]: return False\n",
        "    return True\n",
        "\n",
        "# n = vertex nb\n",
        "def graphColoringUtil(graph, color_nb, colors, n):\n",
        "    # Check if all vertices are assigned a color\n",
        "    if color_nb+1 == n :\n",
        "        return True\n",
        "\n",
        "    # Trying differents color for the vertex n\n",
        "    for c in range(1, color_nb+1):\n",
        "        # Check if assignment of color c to n is possible\n",
        "        if is_safe(n, graph, colors, c):\n",
        "            # Assign color c to n\n",
        "            colors[n] = c\n",
        "            # Recursively assign colors to the rest of the vertices\n",
        "            if graphColoringUtil(graph, color_nb, colors, n+1): return True\n",
        "            # If there is no solution, remove color (BACKTRACK)\n",
        "            colors[n] = 0"
      ],
      "execution_count": 62,
      "outputs": []
    },
    {
      "cell_type": "code",
      "metadata": {
        "id": "ry08S7Mst13Y",
        "outputId": "682e86be-0b31-4a2b-8e87-f4f5f274ee0e",
        "colab": {
          "base_uri": "https://localhost:8080/"
        }
      },
      "source": [
        "#nb of vertex\n",
        "vertex_nb = int(input(\"Enter number of vertices : \"))\n",
        "# nb of colors\n",
        "color_nb = int(input(\"Enter number of colors : \"))\n",
        "# Initiate vertex colors\n",
        "colors = [0] * vertex_nb\n",
        "\n",
        "graph = [[0]*vertex_nb]*vertex_nb\n",
        "\n",
        "for i in range(0,vertex_nb):\n",
        "  for j in range(0,vertex_nb):\n",
        "      graph[i][j] = int(input(f'Is there a edge from from {i+1} to {j+1} : '))\n",
        "\n",
        "1\n",
        "#beginning with vertex 0\n",
        "if graphColoringUtil(graph, color_nb, colors, 0):\n",
        "    print(colors)\n",
        "else:\n",
        "    print(\"No solutions\")"
      ],
      "execution_count": 66,
      "outputs": [
        {
          "output_type": "stream",
          "text": [
            "Enter number of vertices : 4\n",
            "Enter number of colors : 2\n",
            "Is there a edge from from 1 to 1 : 0\n",
            "Is there a edge from from 1 to 2 : 1\n",
            "Is there a edge from from 1 to 3 : 0\n",
            "Is there a edge from from 1 to 4 : 1\n",
            "Is there a edge from from 2 to 1 : 1\n",
            "Is there a edge from from 2 to 2 : 0\n",
            "Is there a edge from from 2 to 3 : 1\n",
            "Is there a edge from from 2 to 4 : 0\n",
            "Is there a edge from from 3 to 1 : 0\n",
            "Is there a edge from from 3 to 2 : 1\n",
            "Is there a edge from from 3 to 3 : 0\n",
            "Is there a edge from from 3 to 4 : 1\n",
            "Is there a edge from from 4 to 1 : 1\n",
            "Is there a edge from from 4 to 2 : 0\n",
            "Is there a edge from from 4 to 3 : 1\n",
            "Is there a edge from from 4 to 4 : 0\n",
            "[1, 2, 2, 0]\n"
          ],
          "name": "stdout"
        }
      ]
    },
    {
      "cell_type": "code",
      "metadata": {
        "id": "pSa7XnbO0Nhi"
      },
      "source": [
        "def valid(graph, colors):\n",
        "    last_vertex, last_color = len(colors) - 1, colors[-1]\n",
        "    colored_neighbors = [i\n",
        "            for i, has_edge\n",
        "            in enumerate(graph[last_vertex])\n",
        "            if has_edge and i < last_vertex]\n",
        "    for neighbor in colored_neighbors:\n",
        "        if colors[neighbor] == last_color:\n",
        "            return False\n",
        "    return True\n",
        "\n",
        "def colorable(graph, k, colors):\n",
        "    if len(colors) == len(graph):\n",
        "        return True\n",
        "\n",
        "    for i in range(k):\n",
        "        colors.append(i)\n",
        "        if valid(graph, colors):\n",
        "            if colorable(graph, k, colors):\n",
        "                return True\n",
        "        colors.pop()\n",
        "\n",
        "    return False"
      ],
      "execution_count": 74,
      "outputs": []
    },
    {
      "cell_type": "code",
      "metadata": {
        "id": "GKDZkW8M1ybe",
        "outputId": "9ab24b82-5fc4-4870-d6b6-dc1e2bca6fe7",
        "colab": {
          "base_uri": "https://localhost:8080/",
          "height": 613
        }
      },
      "source": [
        "n = int(input(\"Enter the number of vertices : \"))\n",
        "k = int(input(\"Enter number of colors : \"))\n",
        "colors =str([\"red\", \"Yellow\",\"Green\", \"Pink\"])\n",
        "graph = [[0]*(n+1)]*(n+1)\n",
        "for i in range(1,n+1):\n",
        "  for j in range(1,n+1):\n",
        "    graph[i][j] = int(input(f'Is there a edge from from {i} to {j} : '))\n",
        "\n",
        "valid(graph,k)\n",
        "colorable(graphh, k, colors)"
      ],
      "execution_count": 76,
      "outputs": [
        {
          "output_type": "stream",
          "text": [
            "Enter the number of vertices : 4\n",
            "Enter number of colors : 2\n",
            "Is there a edge from from 1 to 1 : 0\n",
            "Is there a edge from from 1 to 2 : 1\n",
            "Is there a edge from from 1 to 3 : 0\n",
            "Is there a edge from from 1 to 4 : 1\n",
            "Is there a edge from from 2 to 1 : 1\n",
            "Is there a edge from from 2 to 2 : 0\n",
            "Is there a edge from from 2 to 3 : 1\n",
            "Is there a edge from from 2 to 4 : 0\n",
            "Is there a edge from from 3 to 1 : 0\n",
            "Is there a edge from from 3 to 2 : 1\n",
            "Is there a edge from from 3 to 3 : 0\n",
            "Is there a edge from from 3 to 4 : 1\n",
            "Is there a edge from from 4 to 1 : 1\n",
            "Is there a edge from from 4 to 2 : 0\n",
            "Is there a edge from from 4 to 3 : 1\n",
            "Is there a edge from from 4 to 4 : 0\n"
          ],
          "name": "stdout"
        },
        {
          "output_type": "error",
          "ename": "TypeError",
          "evalue": "ignored",
          "traceback": [
            "\u001b[0;31m---------------------------------------------------------------------------\u001b[0m",
            "\u001b[0;31mTypeError\u001b[0m                                 Traceback (most recent call last)",
            "\u001b[0;32m<ipython-input-76-6dc1227e7aeb>\u001b[0m in \u001b[0;36m<module>\u001b[0;34m()\u001b[0m\n\u001b[1;32m      7\u001b[0m     \u001b[0mgraph\u001b[0m\u001b[0;34m[\u001b[0m\u001b[0mi\u001b[0m\u001b[0;34m]\u001b[0m\u001b[0;34m[\u001b[0m\u001b[0mj\u001b[0m\u001b[0;34m]\u001b[0m \u001b[0;34m=\u001b[0m \u001b[0mint\u001b[0m\u001b[0;34m(\u001b[0m\u001b[0minput\u001b[0m\u001b[0;34m(\u001b[0m\u001b[0;34mf'Is there a edge from from {i} to {j} : '\u001b[0m\u001b[0;34m)\u001b[0m\u001b[0;34m)\u001b[0m\u001b[0;34m\u001b[0m\u001b[0;34m\u001b[0m\u001b[0m\n\u001b[1;32m      8\u001b[0m \u001b[0;34m\u001b[0m\u001b[0m\n\u001b[0;32m----> 9\u001b[0;31m \u001b[0mvalid\u001b[0m\u001b[0;34m(\u001b[0m\u001b[0mgraph\u001b[0m\u001b[0;34m,\u001b[0m\u001b[0mk\u001b[0m\u001b[0;34m)\u001b[0m\u001b[0;34m\u001b[0m\u001b[0;34m\u001b[0m\u001b[0m\n\u001b[0m\u001b[1;32m     10\u001b[0m \u001b[0mcolorable\u001b[0m\u001b[0;34m(\u001b[0m\u001b[0mgraphh\u001b[0m\u001b[0;34m,\u001b[0m \u001b[0mk\u001b[0m\u001b[0;34m,\u001b[0m \u001b[0mcolors\u001b[0m\u001b[0;34m)\u001b[0m\u001b[0;34m\u001b[0m\u001b[0;34m\u001b[0m\u001b[0m\n",
            "\u001b[0;32m<ipython-input-74-f7813b780689>\u001b[0m in \u001b[0;36mvalid\u001b[0;34m(graph, colors)\u001b[0m\n\u001b[1;32m      1\u001b[0m \u001b[0;32mdef\u001b[0m \u001b[0mvalid\u001b[0m\u001b[0;34m(\u001b[0m\u001b[0mgraph\u001b[0m\u001b[0;34m,\u001b[0m \u001b[0mcolors\u001b[0m\u001b[0;34m)\u001b[0m\u001b[0;34m:\u001b[0m\u001b[0;34m\u001b[0m\u001b[0;34m\u001b[0m\u001b[0m\n\u001b[0;32m----> 2\u001b[0;31m     \u001b[0mlast_vertex\u001b[0m\u001b[0;34m,\u001b[0m \u001b[0mlast_color\u001b[0m \u001b[0;34m=\u001b[0m \u001b[0mlen\u001b[0m\u001b[0;34m(\u001b[0m\u001b[0mcolors\u001b[0m\u001b[0;34m)\u001b[0m \u001b[0;34m-\u001b[0m \u001b[0;36m1\u001b[0m\u001b[0;34m,\u001b[0m \u001b[0mcolors\u001b[0m\u001b[0;34m[\u001b[0m\u001b[0;34m-\u001b[0m\u001b[0;36m1\u001b[0m\u001b[0;34m]\u001b[0m\u001b[0;34m\u001b[0m\u001b[0;34m\u001b[0m\u001b[0m\n\u001b[0m\u001b[1;32m      3\u001b[0m     colored_neighbors = [i\n\u001b[1;32m      4\u001b[0m             \u001b[0;32mfor\u001b[0m \u001b[0mi\u001b[0m\u001b[0;34m,\u001b[0m \u001b[0mhas_edge\u001b[0m\u001b[0;34m\u001b[0m\u001b[0;34m\u001b[0m\u001b[0m\n\u001b[1;32m      5\u001b[0m             \u001b[0;32min\u001b[0m \u001b[0menumerate\u001b[0m\u001b[0;34m(\u001b[0m\u001b[0mgraph\u001b[0m\u001b[0;34m[\u001b[0m\u001b[0mlast_vertex\u001b[0m\u001b[0;34m]\u001b[0m\u001b[0;34m)\u001b[0m\u001b[0;34m\u001b[0m\u001b[0;34m\u001b[0m\u001b[0m\n",
            "\u001b[0;31mTypeError\u001b[0m: object of type 'int' has no len()"
          ]
        }
      ]
    }
  ]
}